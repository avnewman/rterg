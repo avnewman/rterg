{
 "cells": [
  {
   "cell_type": "code",
   "execution_count": 113,
   "id": "legitimate-kitchen",
   "metadata": {},
   "outputs": [
    {
     "data": {
      "application/javascript": [
       "alert(\"test\");\n",
       "//element.text(\"test\");\n"
      ],
      "text/plain": [
       "<IPython.core.display.Javascript object>"
      ]
     },
     "metadata": {},
     "output_type": "display_data"
    }
   ],
   "source": [
    "%%js\n",
    "alert(\"test\");\n",
    "//element.text(\"test\");"
   ]
  },
  {
   "cell_type": "code",
   "execution_count": 66,
   "id": "conventional-throat",
   "metadata": {},
   "outputs": [
    {
     "data": {
      "application/vnd.jupyter.widget-view+json": {
       "model_id": "b10d03997ca44b66a6d66fa102699c16",
       "version_major": 2,
       "version_minor": 0
      },
      "text/plain": [
       "Map(center=[20, 0], controls=(ZoomControl(options=['position', 'zoom_in_text', 'zoom_in_title', 'zoom_out_text…"
      ]
     },
     "metadata": {},
     "output_type": "display_data"
    }
   ],
   "source": [
    "from ipyleaflet import Map, Marker, basemaps, Popup, MarkerCluster, WidgetControl\n",
    "from ipywidgets import FloatRangeSlider, jslink\n",
    "import pandas as pd\n",
    "    \n",
    "df = pd.read_pickle(\"../rterg_summary.pkl\")\n",
    "\n",
    "# basemap selection: https://ipyleaflet.readthedocs.io/en/latest/api_reference/basemaps.html\n",
    "\n",
    "m = Map(center=(20, 0), zoom=1, min_zoom=1, max_zoom=10, scroll_wheel_zoom=True, basemap=basemaps.Esri.WorldTopoMap)\n",
    "\n",
    "markers = []\n",
    "for x in range(0, len(df.index)):\n",
    "    lat = df.iloc[x][\"Lat\"]\n",
    "    long = df.iloc[x][\"Long\"]\n",
    "    marker = Marker(location=(lat, long), draggable=False)\n",
    "    markers.append(marker)\n",
    "    \n",
    "    link = \"http://geophysics.eas.gatech.edu/anewman/research/RTerg/\" + \\\n",
    "            str(df.iloc[x][\"oTime\"])[0:4] + \"/\" + df.iloc[x][\"Eventname\"]\n",
    "    \n",
    "    message = HTML()\n",
    "    message.value = \"<b>Eventname:</b> \" + str(df.iloc[x][\"Eventname\"]) + \"</br>\" + \\\n",
    "                        \"<b>oTime:</b> \" + str(df.iloc[x][\"oTime\"]) + \"</br>\" + \\\n",
    "                        \"<b>Lat, Long:</b> \" + str(df.iloc[x][\"Lat\"]) + \", \" + str(df.iloc[x][\"Long\"]) + \"</br>\" + \\\n",
    "                        \"<b>Me:</b> \" + str(df.iloc[x][\"Me\"]) + \"</br>\" + \\\n",
    "                        \"<b>Txo:</b> \" + str(df.iloc[x][\"Txo\"]) + \"</br>\" + \\\n",
    "                        \"<b>Nstats:</b> \" + str(df.iloc[x][\"Nstats\"]) + \"</br>\" + \\\n",
    "                        \"<a href=\" + link + \">Event Page</a>\"\n",
    "    \n",
    "    popup = Popup(child=message, close_button=False, auto_close=False, close_on_escape_key=False)\n",
    "    marker.popup = message\n",
    "\n",
    "m.add_layer(MarkerCluster(markers=markers))\n",
    "\n",
    "magSlide = FloatRangeSlider(description='Magnitude:', min=0, max=10, value=[4, 6], step=0.5)\n",
    "widget_control1 = WidgetControl(widget=magSlide, position='topright')\n",
    "m.add_control(widget_control1)\n",
    "\n",
    "m.add_control(magSlide)\n",
    "\n",
    "m"
   ]
  },
  {
   "cell_type": "code",
   "execution_count": 68,
   "id": "unique-activity",
   "metadata": {},
   "outputs": [],
   "source": [
    "m.save('test2.html', title='rterg map')"
   ]
  },
  {
   "cell_type": "code",
   "execution_count": 65,
   "id": "blessed-trial",
   "metadata": {},
   "outputs": [],
   "source": [
    "#     message = HTML()\n",
    "#     message.value =\"Eventname: \" + df.iloc[x][\"Eventname\"] + \" | \" + \\\n",
    "#                         \"oTime: \" + str(df.iloc[x][\"oTime\"]) + \" | \" + \\\n",
    "#                         \"Lat, Long: \" + str(df.iloc[x][\"Lat\"]) + \", \" + str(df.iloc[x][\"Long\"]) + \\\n",
    "#                         \"Depth: \" + str(df.iloc[x][\"Depth\"]) + \" | \" + \\\n",
    "#                         \"Me: \" + str(df.iloc[x][\"Me\"]) + \" | \" + \\\n",
    "#                         \"Txo: \" + str(df.iloc[x][\"Txo\"]) + \" | \" + \\\n",
    "#                         \"Ehf: \" + str(df.iloc[x][\"Ehf\"]) + \" | \" + \\\n",
    "#                         \"Ebb: \" + str(df.iloc[x][\"Ebb\"]) + \" | \" + \\\n",
    "#                         \"Mehf: \" + str(df.iloc[x][\"Mehf\"]) + \" | \" + \\\n",
    "#                         \"Ehf_Tr3: \" + str(df.iloc[x][\"Ehf_Tr3\"]) + \" | \" + \\\n",
    "#                         \"Nstats: \" + str(df.iloc[x][\"Nstats\"]) + \" | \" + \\\n",
    "#                         \"iMagType: \" + str(df.iloc[x][\"iMagType\"]) + \" | \" + \\\n",
    "#                         \"SRC: \" + str(df.iloc[x][\"SRC\"]) + \" | \" + \\\n",
    "#                         \"iMag: \" + str(df.iloc[x][\"iMag\"]) + \" | \" + \\\n",
    "#                         \"TACER_HF: \" + str(df.iloc[x][\"TACER_HF\"]) + \" | \" + \\\n",
    "#                         \"TACER_BB: \" + str(df.iloc[x][\"TACER_BB\"]) + \" | \" + \\\n",
    "#                         \"Comment: \" + str(df.iloc[x][\"Comment\"]) + \" | \" + \\\n",
    "#                         \"mTime: \" + str(df.iloc[x][\"mTime\"]) + \" | \" + \\\n",
    "#                         \"iteration: \" + str(df.iloc[x][\"iteration\"])"
   ]
  },
  {
   "cell_type": "code",
   "execution_count": null,
   "id": "apparent-yacht",
   "metadata": {},
   "outputs": [],
   "source": []
  }
 ],
 "metadata": {
  "kernelspec": {
   "display_name": "Python 3",
   "language": "python",
   "name": "python3"
  },
  "language_info": {
   "codemirror_mode": {
    "name": "ipython",
    "version": 3
   },
   "file_extension": ".py",
   "mimetype": "text/x-python",
   "name": "python",
   "nbconvert_exporter": "python",
   "pygments_lexer": "ipython3",
   "version": "3.8.8"
  }
 },
 "nbformat": 4,
 "nbformat_minor": 5
}
