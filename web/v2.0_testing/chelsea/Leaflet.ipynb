{
 "cells": [
  {
   "cell_type": "code",
   "execution_count": 113,
   "id": "legitimate-kitchen",
   "metadata": {},
   "outputs": [
    {
     "data": {
      "application/javascript": [
       "alert(\"test\");\n",
       "//element.text(\"test\");\n"
      ],
      "text/plain": [
       "<IPython.core.display.Javascript object>"
      ]
     },
     "metadata": {},
     "output_type": "display_data"
    }
   ],
   "source": [
    "%%js\n",
    "alert(\"test\");\n",
    "//element.text(\"test\");"
   ]
  },
  {
   "cell_type": "code",
   "execution_count": 1,
   "id": "conventional-throat",
   "metadata": {},
   "outputs": [
    {
     "data": {
      "application/vnd.jupyter.widget-view+json": {
       "model_id": "7fe3c75ae2114f78abe00187e8dcd71d",
       "version_major": 2,
       "version_minor": 0
      },
      "text/plain": [
       "Map(center=[20, 0], controls=(ZoomControl(options=['position', 'zoom_in_text', 'zoom_in_title', 'zoom_out_text…"
      ]
     },
     "metadata": {},
     "output_type": "display_data"
    }
   ],
   "source": [
    "from ipyleaflet import *\n",
    "from ipywidgets import HTML\n",
    "import pandas as pd\n",
    "    \n",
    "df = pd.read_pickle('../rterg_summary.pkl')\n",
    "\n",
    "# basemap selection: https://ipyleaflet.readthedocs.io/en/latest/api_reference/basemaps.html\n",
    "\n",
    "m = Map(center=(20, 0), zoom=1, min_zoom=1, max_zoom=10, \n",
    "basemap=basemaps.Esri.WorldTopoMap)\n",
    "\n",
    "markers = []\n",
    "for x in range(0, len(df.index)):\n",
    "    lat = df.iloc[x][\"Lat\"]\n",
    "    long = df.iloc[x][\"Long\"]\n",
    "    marker = Marker(location=(lat, long), draggable=False)\n",
    "    markers.append(marker)\n",
    "    \n",
    "    message = HTML()\n",
    "    message.value =\"Eventname: \" + df.iloc[x][\"Eventname\"] + \" | \" + \\\n",
    "                        \"oTime: \" + str(df.iloc[x][\"oTime\"]) + \" | \" + \\\n",
    "                        \"Lat, Long: \" + str(df.iloc[x][\"Lat\"]) + \", \" + str(df.iloc[x][\"Long\"]) + \\\n",
    "                        \"Depth: \" + str(df.iloc[x][\"Depth\"]) + \" | \" + \\\n",
    "                        \"Me: \" + str(df.iloc[x][\"Me\"]) + \" | \" + \\\n",
    "                        \"Txo: \" + str(df.iloc[x][\"Txo\"]) + \" | \" + \\\n",
    "                        \"Ehf: \" + str(df.iloc[x][\"Ehf\"]) + \" | \" + \\\n",
    "                        \"Ebb: \" + str(df.iloc[x][\"Ebb\"]) + \" | \" + \\\n",
    "                        \"Mehf: \" + str(df.iloc[x][\"Mehf\"]) + \" | \" + \\\n",
    "                        \"Ehf_Tr3: \" + str(df.iloc[x][\"Ehf_Tr3\"]) + \" | \" + \\\n",
    "                        \"Nstats: \" + str(df.iloc[x][\"Nstats\"]) + \" | \" + \\\n",
    "                        \"iMagType: \" + str(df.iloc[x][\"iMagType\"]) + \" | \" + \\\n",
    "                        \"SRC: \" + str(df.iloc[x][\"SRC\"]) + \" | \" + \\\n",
    "                        \"iMag: \" + str(df.iloc[x][\"iMag\"]) + \" | \" + \\\n",
    "                        \"TACER_HF: \" + str(df.iloc[x][\"TACER_HF\"]) + \" | \" + \\\n",
    "                        \"TACER_BB: \" + str(df.iloc[x][\"TACER_BB\"]) + \" | \" + \\\n",
    "                        \"Comment: \" + str(df.iloc[x][\"Comment\"]) + \" | \" + \\\n",
    "                        \"mTime: \" + str(df.iloc[x][\"mTime\"]) + \" | \" + \\\n",
    "                        \"iteration: \" + str(df.iloc[x][\"iteration\"])\n",
    "    popup = Popup(child=message, close_button=False, auto_close=False, close_on_escape_key=False)\n",
    "    marker.popup = message\n",
    "\n",
    "m.add_layer(MarkerCluster(markers=markers))\n",
    "\n",
    "m"
   ]
  },
  {
   "cell_type": "code",
   "execution_count": 2,
   "id": "unique-activity",
   "metadata": {},
   "outputs": [
    {
     "ename": "TypeError",
     "evalue": "write() argument must be str, not Map",
     "output_type": "error",
     "traceback": [
      "\u001b[1;31m---------------------------------------------------------------------------\u001b[0m",
      "\u001b[1;31mTypeError\u001b[0m                                 Traceback (most recent call last)",
      "\u001b[1;32m<ipython-input-2-c0949b9e8ed7>\u001b[0m in \u001b[0;36m<module>\u001b[1;34m\u001b[0m\n\u001b[0;32m      1\u001b[0m \u001b[0mfile\u001b[0m \u001b[1;33m=\u001b[0m \u001b[0mopen\u001b[0m\u001b[1;33m(\u001b[0m\u001b[1;34m\"test.html\"\u001b[0m\u001b[1;33m,\u001b[0m \u001b[1;34m\"w\"\u001b[0m\u001b[1;33m)\u001b[0m\u001b[1;33m\u001b[0m\u001b[1;33m\u001b[0m\u001b[0m\n\u001b[1;32m----> 2\u001b[1;33m \u001b[0mfile\u001b[0m\u001b[1;33m.\u001b[0m\u001b[0mwrite\u001b[0m\u001b[1;33m(\u001b[0m\u001b[0mm\u001b[0m\u001b[1;33m)\u001b[0m\u001b[1;33m\u001b[0m\u001b[1;33m\u001b[0m\u001b[0m\n\u001b[0m\u001b[0;32m      3\u001b[0m \u001b[0mfile\u001b[0m\u001b[1;33m.\u001b[0m\u001b[0mclose\u001b[0m\u001b[1;33m(\u001b[0m\u001b[1;33m)\u001b[0m\u001b[1;33m\u001b[0m\u001b[1;33m\u001b[0m\u001b[0m\n",
      "\u001b[1;31mTypeError\u001b[0m: write() argument must be str, not Map"
     ]
    }
   ],
   "source": [
    "file = open(\"test.html\", \"w\")\n",
    "file.write(m)\n",
    "file.close()"
   ]
  },
  {
   "cell_type": "code",
   "execution_count": null,
   "id": "satisfactory-wilson",
   "metadata": {},
   "outputs": [],
   "source": []
  }
 ],
 "metadata": {
  "kernelspec": {
   "display_name": "Python 3",
   "language": "python",
   "name": "python3"
  },
  "language_info": {
   "codemirror_mode": {
    "name": "ipython",
    "version": 3
   },
   "file_extension": ".py",
   "mimetype": "text/x-python",
   "name": "python",
   "nbconvert_exporter": "python",
   "pygments_lexer": "ipython3",
   "version": "3.8.8"
  }
 },
 "nbformat": 4,
 "nbformat_minor": 5
}
