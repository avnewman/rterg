{
 "cells": [
  {
   "cell_type": "code",
   "execution_count": 113,
   "id": "legitimate-kitchen",
   "metadata": {},
   "outputs": [
    {
     "data": {
      "application/javascript": [
       "alert(\"test\");\n",
       "//element.text(\"test\");\n"
      ],
      "text/plain": [
       "<IPython.core.display.Javascript object>"
      ]
     },
     "metadata": {},
     "output_type": "display_data"
    }
   ],
   "source": [
    "%%js\n",
    "alert(\"test\");\n",
    "//element.text(\"test\");"
   ]
  },
  {
   "cell_type": "code",
   "execution_count": 112,
   "id": "conventional-throat",
   "metadata": {},
   "outputs": [
    {
     "data": {
      "application/vnd.jupyter.widget-view+json": {
       "model_id": "",
       "version_major": 2,
       "version_minor": 0
      },
      "text/plain": [
       "Map(center=[20, 0], controls=(ZoomControl(options=['position', 'zoom_in_text', 'zoom_in_title', 'zoom_out_text…"
      ]
     },
     "metadata": {},
     "output_type": "display_data"
    }
   ],
   "source": [
    "from ipyleaflet import *\n",
    "from ipywidgets import HTML\n",
    "import pandas as pd\n",
    "    \n",
    "df = pd.read_pickle('../rterg_summary.pkl')\n",
    "\n",
    "# basemap selection: https://ipyleaflet.readthedocs.io/en/latest/api_reference/basemaps.html\n",
    "\n",
    "m = Map(center=(20, 0), zoom=1, min_zoom=1, max_zoom=10, \n",
    "basemap=basemaps.Esri.WorldTopoMap)\n",
    "\n",
    "markers = []\n",
    "for x in range(0, len(df.index)):\n",
    "    lat = df.iloc[x][\"Lat\"]\n",
    "    long = df.iloc[x][\"Long\"]\n",
    "    marker = Marker(location=(lat, long), draggable=False)\n",
    "    markers.append(marker)\n",
    "    \n",
    "#     message = HTML()\n",
    "#     message.value =\"Eventname: \" + df.iloc[x][\"Eventname\"] + \" | \" + \\\n",
    "#                         \"oTime: \" + str(df.iloc[x][\"oTime\"]) + \" | \" + \\\n",
    "#                         \"Lat, Long: \" + str(df.iloc[x][\"Lat\"]) + \", \" + str(df.iloc[x][\"Long\"]) + \\\n",
    "#                         \"Depth: \" + str(df.iloc[x][\"Depth\"]) + \" | \" + \\\n",
    "#                         \"Me: \" + str(df.iloc[x][\"Me\"]) + \" | \" + \\\n",
    "#                         \"Txo: \" + str(df.iloc[x][\"Txo\"]) + \" | \" + \\\n",
    "#                         \"Ehf: \" + str(df.iloc[x][\"Ehf\"]) + \" | \" + \\\n",
    "#                         \"Ebb: \" + str(df.iloc[x][\"Ebb\"]) + \" | \" + \\\n",
    "#                         \"Mehf: \" + str(df.iloc[x][\"Mehf\"]) + \" | \" + \\\n",
    "#                         \"Ehf_Tr3: \" + str(df.iloc[x][\"Ehf_Tr3\"]) + \" | \" + \\\n",
    "#                         \"Nstats: \" + str(df.iloc[x][\"Nstats\"]) + \" | \" + \\\n",
    "#                         \"iMagType: \" + str(df.iloc[x][\"iMagType\"]) + \" | \" + \\\n",
    "#                         \"SRC: \" + str(df.iloc[x][\"SRC\"]) + \" | \" + \\\n",
    "#                         \"iMag: \" + str(df.iloc[x][\"iMag\"]) + \" | \" + \\\n",
    "#                         \"TACER_HF: \" + str(df.iloc[x][\"TACER_HF\"]) + \" | \" + \\\n",
    "#                         \"TACER_BB: \" + str(df.iloc[x][\"TACER_BB\"]) + \" | \" + \\\n",
    "#                         \"Comment: \" + str(df.iloc[x][\"Comment\"]) + \" | \" + \\\n",
    "#                         \"mTime: \" + str(df.iloc[x][\"mTime\"]) + \" | \" + \\\n",
    "#                         \"iteration: \" + str(df.iloc[x][\"iteration\"])\n",
    "#     popup = Popup(child=message, close_button=False, auto_close=False, close_on_escape_key=False)\n",
    "#     marker.popup = message\n",
    "\n",
    "m.add_layer(MarkerCluster(markers=markers))\n",
    "\n",
    "m"
   ]
  },
  {
   "cell_type": "code",
   "execution_count": null,
   "id": "unique-activity",
   "metadata": {},
   "outputs": [],
   "source": []
  }
 ],
 "metadata": {
  "kernelspec": {
   "display_name": "Python 3",
   "language": "python",
   "name": "python3"
  },
  "language_info": {
   "codemirror_mode": {
    "name": "ipython",
    "version": 3
   },
   "file_extension": ".py",
   "mimetype": "text/x-python",
   "name": "python",
   "nbconvert_exporter": "python",
   "pygments_lexer": "ipython3",
   "version": "3.8.8"
  }
 },
 "nbformat": 4,
 "nbformat_minor": 5
}
