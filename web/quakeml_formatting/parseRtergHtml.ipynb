{
 "cells": [
  {
   "cell_type": "code",
   "execution_count": 19,
   "metadata": {},
   "outputs": [
    {
     "name": "stdout",
     "output_type": "stream",
     "text": [
      "  #Eventname        Date     Otime    Lat.   Long. Depth    Me  Tr      Ehf  \\\n",
      "0   21012303  2021/01/23  23:36:55  -62.00  -55.30  10.0  7.01  53  9.7e+13   \n",
      "\n",
      "       Ebb  Mehf Ehf/Tr^3      Nstats : Comments TACER_HF TACER_BB  \\\n",
      "0  7.3e+14  6.89  6.5e+08  32 : (SRC=AT, M=7.3);    27.00    26.00   \n",
      "\n",
      "                   COMMENTS  \n",
      "0  this is our comment text  \n"
     ]
    }
   ],
   "source": [
    "#builds and empty dataframe\n",
    "\n",
    "import pandas as pd\n",
    "\n",
    "def buildDF():\n",
    "    colNames = [\"#Eventname\", \"Date\", \"Otime\", \"Lat.\", \"Long.\", \"Depth\", \"Me\", \"Tr\", \"Ehf\", \"Ebb\",\n",
    "                \"Mehf\", \"Ehf/Tr^3\", \"Nstats : Comments\", \"TACER_HF\", \"TACER_BB\", \"COMMENTS\"]\n",
    "    df = pd.DataFrame(columns = colNames)\n",
    "    return df\n",
    "\n",
    "#uses a helper function to input data into the dataframe\n",
    "\n",
    "def parseRtergHtml(df, html):\n",
    "    data = readHtml(html)\n",
    "    for x in range(16):\n",
    "        df[df.columns[x]] = [data[x]]\n",
    "    return\n",
    "\n",
    "#creates a list of data from the html file that will be\n",
    "#inputted into the dataframe\n",
    "\n",
    "def readHtml(html):\n",
    "    file = open(html, \"r\")\n",
    "    file.readline()\n",
    "    line2 = file.readline()\n",
    "    dataList = line2.split()\n",
    "    str = \"\"\n",
    "    for x in range(3):\n",
    "        str = str + \" \" + dataList.pop(13)\n",
    "    dataList[12] = dataList[12] + str\n",
    "    line3 = file.readline()\n",
    "    tempList = line3.split()\n",
    "    dataList.append(tempList[7])\n",
    "    dataList.append(tempList[10])\n",
    "    line4 = file.readline()\n",
    "    dataList.append(line4[15:].strip())\n",
    "    return dataList\n",
    "\n",
    "df = buildDF()\n",
    "parseRtergHtml(df, \"21012303.html\")\n",
    "print(df)"
   ]
  },
  {
   "cell_type": "code",
   "execution_count": 18,
   "metadata": {},
   "outputs": [],
   "source": [
    "#working on parsing the data and inputting it into the correct rows/columns using pandas.read_csv()\n",
    "\n",
    "import pandas as pd\n",
    "\n",
    "def parseRtergHtmlWorking(html):\n",
    "    colNames = [\"#Eventname\", \"Date\", \"Otime\", \"Lat.\", \"Long.\", \"Depth\", \"Me\", \"Tr\", \"Ehf\", \"Ebb\", \"Mehf\", \"Ehf/Tr^3\", \"Nstats : Comments\", \"TACER_HF\", \"TACER_BB\"]\n",
    "    df = pd.read_csv(html, names = colNames, skiprows = 1, nrows = 2)\n",
    "    return"
   ]
  },
  {
   "cell_type": "code",
   "execution_count": null,
   "metadata": {},
   "outputs": [],
   "source": []
  }
 ],
 "metadata": {
  "kernelspec": {
   "display_name": "Python 3",
   "language": "python",
   "name": "python3"
  },
  "language_info": {
   "codemirror_mode": {
    "name": "ipython",
    "version": 3
   },
   "file_extension": ".py",
   "mimetype": "text/x-python",
   "name": "python",
   "nbconvert_exporter": "python",
   "pygments_lexer": "ipython3",
   "version": "3.8.5"
  }
 },
 "nbformat": 4,
 "nbformat_minor": 4
}
