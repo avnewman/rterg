{
 "cells": [
  {
   "cell_type": "code",
   "execution_count": 3,
   "metadata": {},
   "outputs": [],
   "source": [
    "#working on parsing the data using pandas.read_csv()\n",
    "\n",
    "import pandas as pd\n",
    "import glob\n",
    "\n",
    "\n",
    "def parseRtergHtml(html):\n",
    "    colNames1 = [\"Eventname\", \"oDate\", \"oTime\", \"Lat.\", \"Long.\", \"Depth\", \"Me\", \"Txo\",\n",
    "                 \"Ehf\", \"Ebb\", \"Mehf\", \"Ehf/Tr^3\", \"Nstats\", \"colon\", \"SRC\", \"iMag\"]\n",
    "    try:\n",
    "        df1 = pd.read_csv(html, names = colNames1, skiprows = 1, nrows = 1, delim_whitespace=True)\n",
    "        df1[\"SRC\"] = df1.iloc[0][\"SRC\"][5:7]\n",
    "        iMagTypeVal = df1.iloc[0][\"iMag\"].split(\"=\")[0]\n",
    "        df1.insert(14, \"iMagType\", iMagTypeVal)\n",
    "        df1[\"iMag\"] = df1.iloc[0][\"iMag\"].split(\"=\")[1][:-2]\n",
    "        oTimeVal = df1[\"oDate\"] + \" \" + df1[\"oTime\"]\n",
    "        df1[\"oTime\"] = pd.to_datetime(oTimeVal, utc=True)\n",
    "        intSkip1 = 0\n",
    "    except:\n",
    "        df1 = pd.DataFrame(columns = colNames1)\n",
    "        intSkip1 = 1\n",
    "    \n",
    "    del df1[\"colon\"]\n",
    "    del df1[\"oDate\"]\n",
    "    \n",
    "    colNames2 = [\"TACER_HF\", \"TACER_BB\"]\n",
    "    \n",
    "    try:\n",
    "        df2 = pd.read_csv(html, names = colNames2, skiprows = 2, nrows = 1, delim_whitespace=True, usecols=[7,10])\n",
    "        float(df2[\"TACER_HF\"][0]) # test to see if there is a valid number\n",
    "        intSkip2 = 0\n",
    "    except:\n",
    "        df2 = pd.DataFrame(columns = colNames2)\n",
    "        intSkip2 = 1\n",
    "\n",
    "    colNames3 = [\"junk\", \"Comment\"]\n",
    "    colNames4 = [\"junk\", \"mTime\"]\n",
    "    colNames5 = [\"junk\", \"iteration\"]\n",
    "    \n",
    "    df3 = pd.read_csv(html, names = colNames3, skiprows = 3 - intSkip2 - intSkip1, nrows = 1, engine=\"python\", delimiter=\"S:\")\n",
    "    del df3[\"junk\"]\n",
    "    \n",
    "    f = open(html, \"r\")\n",
    "    content = f.read().split(\"\\n\")\n",
    "    count = -1\n",
    "    for lines in content:\n",
    "        count += 1\n",
    "    if content[count] == \"\":\n",
    "        count -= 1\n",
    "    \n",
    "    df4 = pd.read_csv(html, names = colNames4, skiprows = count - 1, nrows = 1, delimiter=\"|\")\n",
    "    if df4[\"junk\"][0][-5:-1] == \"</a>\":\n",
    "        del df4[\"junk\"]\n",
    "    else:\n",
    "        del df4[\"mTime\"]\n",
    "        df4.rename(columns = {\"junk\" : \"mTime\"}, inplace=True)\n",
    "    df4[\"mTime\"] = pd.to_datetime(df4[\"mTime\"], utc=True)\n",
    "    \n",
    "    df5 = pd.read_csv(html, names = colNames5, skiprows = count, nrows = 1, delimiter=\"=\")\n",
    "    del df5[\"junk\"]\n",
    "    df5[\"iteration\"][0] = df5.iloc[0][\"iteration\"].split(\"<\")[0]\n",
    "\n",
    "    df = pd.concat([df1,df2,df3,df4, df5], axis=1)\n",
    "    return df"
   ]
  },
  {
   "cell_type": "code",
   "execution_count": 5,
   "metadata": {},
   "outputs": [
    {
     "ename": "NameError",
     "evalue": "name 'htmlfiles' is not defined",
     "output_type": "error",
     "traceback": [
      "\u001b[1;31m---------------------------------------------------------------------------\u001b[0m",
      "\u001b[1;31mNameError\u001b[0m                                 Traceback (most recent call last)",
      "\u001b[1;32m<ipython-input-5-1c36f34039e4>\u001b[0m in \u001b[0;36m<module>\u001b[1;34m\u001b[0m\n\u001b[0;32m     16\u001b[0m \u001b[1;31m#htmlfiles=glob.glob('rterg_html_outs/bad/*.html')\u001b[0m\u001b[1;33m\u001b[0m\u001b[1;33m\u001b[0m\u001b[1;33m\u001b[0m\u001b[0m\n\u001b[0;32m     17\u001b[0m \u001b[1;33m\u001b[0m\u001b[0m\n\u001b[1;32m---> 18\u001b[1;33m \u001b[0mdf\u001b[0m \u001b[1;33m=\u001b[0m \u001b[0mbuilddf\u001b[0m\u001b[1;33m(\u001b[0m\u001b[0mhtmlfiles\u001b[0m\u001b[1;33m)\u001b[0m\u001b[1;33m\u001b[0m\u001b[1;33m\u001b[0m\u001b[0m\n\u001b[0m\u001b[0;32m     19\u001b[0m \u001b[0mdf\u001b[0m\u001b[1;33m.\u001b[0m\u001b[0mhead\u001b[0m\u001b[1;33m(\u001b[0m\u001b[1;33m)\u001b[0m\u001b[1;33m\u001b[0m\u001b[1;33m\u001b[0m\u001b[0m\n",
      "\u001b[1;31mNameError\u001b[0m: name 'htmlfiles' is not defined"
     ]
    }
   ],
   "source": [
    "def builddf(htmlfiles):\n",
    "    df = pd.DataFrame()\n",
    "    for html in htmlfiles:\n",
    "        try: \n",
    "            df1=parseRtergHtml(html)\n",
    "            if len(df) == 0:  # first run keeps header\n",
    "                df=df1\n",
    "            else:  # otherwise strip it\n",
    "                df=df.append(df1, ignore_index = True)\n",
    "            count += 1\n",
    "        except:\n",
    "            continue\n",
    "    return df\n",
    "\n",
    "#htmlfiles = sorted(glob.glob('rterg_html_outs/[0-9]???????.html'))  # creates a sorted version\n",
    "#htmlfiles=glob.glob('rterg_html_outs/bad/*.html')\n",
    "\n",
    "df = builddf(htmlfiles)\n",
    "df.head()"
   ]
  },
  {
   "cell_type": "code",
   "execution_count": 526,
   "metadata": {},
   "outputs": [
    {
     "name": "stdout",
     "output_type": "stream",
     "text": [
      "RangeIndex(start=0, stop=4, step=1)\n"
     ]
    }
   ],
   "source": [
    "print(df.index)"
   ]
  }
 ],
 "metadata": {
  "kernelspec": {
   "display_name": "Python 3",
   "language": "python",
   "name": "python3"
  },
  "language_info": {
   "codemirror_mode": {
    "name": "ipython",
    "version": 3
   },
   "file_extension": ".py",
   "mimetype": "text/x-python",
   "name": "python",
   "nbconvert_exporter": "python",
   "pygments_lexer": "ipython3",
   "version": "3.8.5"
  }
 },
 "nbformat": 4,
 "nbformat_minor": 4
}
