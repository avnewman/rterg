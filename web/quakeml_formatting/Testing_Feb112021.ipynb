{
 "cells": [
  {
   "cell_type": "code",
   "execution_count": 1,
   "metadata": {},
   "outputs": [
    {
     "name": "stderr",
     "output_type": "stream",
     "text": [
      "/Users/anewman/opt/anaconda3/lib/python3.7/site-packages/obspy/io/quakeml/core.py:1109: UserWarning: 'smi://eu.emsc/unid' is not a valid QuakeML URI. It will be in the final file but note that the file will not be a valid QuakeML file.\n",
      "  warnings.warn(msg % obj.id)\n"
     ]
    }
   ],
   "source": [
    "# This is from Chelseas parseFile.py\n",
    "from obspy import read_events\n",
    "\n",
    "def parseFile(n):\n",
    "    catalog = read_events()\n",
    "    catalog.write(n, format=\"QUAKEML\")\n",
    "    \"\"\"\n",
    "    file = open(n, \"r\")\n",
    "    header = file.readline()\n",
    "    nextLine = file.readline()\n",
    "    name = \"\"\n",
    "    for char in nextLine:\n",
    "        if (char == \" \" and name != \"\"):\n",
    "            break\n",
    "        elif (char != \" \"):\n",
    "            name += char\n",
    "        else:\n",
    "            continue\n",
    "    fileName = name + \".xml\"\n",
    "    catalog.write(fileName, format=\"QUAKEML\")\n",
    "    \"\"\"\n",
    "    return\n",
    "parseFile(\"21012303.txt\")"
   ]
  },
  {
   "cell_type": "code",
   "execution_count": null,
   "metadata": {},
   "outputs": [],
   "source": [
    "# pseudocode \n",
    "\n",
    "def parseRtergHtml(htmlfile):\n",
    "    import pandas as pd\n",
    "    # results file is the original formatted file created by RTerg\n",
    "    \"\"\"\n",
    "    use pd.read_csv(htmlfile) or similar to read pertienent info from html file (2nd and 3rd line).  \n",
    "    The data structure names will need to be hard-wired and should include:\n",
    "        1) all info on line 2. *\n",
    "        2) only TACER_HF and TACER_BB results form line 3.\n",
    "        3) all info after \"COMMENTS:\" in line 4\n",
    "        4) modtime in line 8*\n",
    "        \n",
    "    * currently times are written in human readable (and different) formats.  Within python its best to store \n",
    "      these either as a 'datetime' format, or as epoch (UTC time from jan 1, 1970 in seconds).  Some of this \n",
    "      may be particular to pandas. \n",
    "    At this point, we're just going to make sure that we create a singulr row within a dataframe stored in memory.\n",
    "    \"\"\"\n",
    "    \n",
    "    "
   ]
  }
 ],
 "metadata": {
  "kernelspec": {
   "display_name": "Python 3",
   "language": "python",
   "name": "python3"
  },
  "language_info": {
   "codemirror_mode": {
    "name": "ipython",
    "version": 3
   },
   "file_extension": ".py",
   "mimetype": "text/x-python",
   "name": "python",
   "nbconvert_exporter": "python",
   "pygments_lexer": "ipython3",
   "version": "3.8.5"
  }
 },
 "nbformat": 4,
 "nbformat_minor": 4
}
